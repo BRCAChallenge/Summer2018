{
 "cells": [
  {
   "cell_type": "markdown",
   "metadata": {},
   "source": [
    "# FoldX treshold for training set\n",
    "The purpose of this notebook is to calculate the treshold and accuracy of the FoldX"
   ]
  },
  {
   "cell_type": "markdown",
   "metadata": {},
   "source": [
    "#### Dependencies"
   ]
  },
  {
   "cell_type": "code",
   "execution_count": 208,
   "metadata": {},
   "outputs": [],
   "source": [
    "import pandas as pd\n",
    "import numpy as np\n",
    "import matplotlib.pyplot as plt\n",
    "import seaborn as sns\n",
    "from sklearn.metrics import roc_curve, roc_auc_score"
   ]
  },
  {
   "cell_type": "code",
   "execution_count": 209,
   "metadata": {},
   "outputs": [],
   "source": [
    "df=pd.read_csv('foldx_training_set_analyse.txt',delimiter='\\t')\n",
    "df_actual=pd.read_excel(\"training_set_pathogenicity.xlsx\")"
   ]
  },
  {
   "cell_type": "code",
   "execution_count": 210,
   "metadata": {},
   "outputs": [],
   "source": [
    "df_actual=pd.concat([df_actual['#Coordinate'].rename('Coor'),df_actual['Pathogenicity'].rename('actual_Pathogenicity')],axis=1)"
   ]
  },
  {
   "cell_type": "code",
   "execution_count": 211,
   "metadata": {},
   "outputs": [],
   "source": [
    "frames=pd.merge(df, df_actual, how='inner', on='Coor')\n",
    "\n",
    "frames.loc[(frames.actual_Pathogenicity=='Likely_benign'),'actual_Pathogenicity']= 'Benign'\n",
    "frames.loc[(frames.actual_Pathogenicity=='Likely_pathogenic'),'actual_Pathogenicity']= 'Pathogenic'"
   ]
  },
  {
   "cell_type": "code",
   "execution_count": 212,
   "metadata": {},
   "outputs": [
    {
     "data": {
      "text/html": [
       "<div>\n",
       "<style scoped>\n",
       "    .dataframe tbody tr th:only-of-type {\n",
       "        vertical-align: middle;\n",
       "    }\n",
       "\n",
       "    .dataframe tbody tr th {\n",
       "        vertical-align: top;\n",
       "    }\n",
       "\n",
       "    .dataframe thead th {\n",
       "        text-align: right;\n",
       "    }\n",
       "</style>\n",
       "<table border=\"1\" class=\"dataframe\">\n",
       "  <thead>\n",
       "    <tr style=\"text-align: right;\">\n",
       "      <th></th>\n",
       "      <th>Coor</th>\n",
       "      <th>deltaG</th>\n",
       "      <th>actual_Pathogenicity</th>\n",
       "    </tr>\n",
       "  </thead>\n",
       "  <tbody>\n",
       "    <tr>\n",
       "      <th>0</th>\n",
       "      <td>chr13:g.32363456:A&gt;T</td>\n",
       "      <td>13.55</td>\n",
       "      <td>Benign</td>\n",
       "    </tr>\n",
       "    <tr>\n",
       "      <th>1</th>\n",
       "      <td>chr17:g.43045739:A&gt;C</td>\n",
       "      <td>14.46</td>\n",
       "      <td>Benign</td>\n",
       "    </tr>\n",
       "    <tr>\n",
       "      <th>2</th>\n",
       "      <td>chr17:g.43045739:A&gt;C</td>\n",
       "      <td>15.22</td>\n",
       "      <td>Benign</td>\n",
       "    </tr>\n",
       "    <tr>\n",
       "      <th>3</th>\n",
       "      <td>chr17:g.43063337:T&gt;A</td>\n",
       "      <td>5.05</td>\n",
       "      <td>Benign</td>\n",
       "    </tr>\n",
       "    <tr>\n",
       "      <th>4</th>\n",
       "      <td>chr17:g.43063337:T&gt;A</td>\n",
       "      <td>2.59</td>\n",
       "      <td>Benign</td>\n",
       "    </tr>\n",
       "  </tbody>\n",
       "</table>\n",
       "</div>"
      ],
      "text/plain": [
       "                   Coor  deltaG actual_Pathogenicity\n",
       "0  chr13:g.32363456:A>T   13.55               Benign\n",
       "1  chr17:g.43045739:A>C   14.46               Benign\n",
       "2  chr17:g.43045739:A>C   15.22               Benign\n",
       "3  chr17:g.43063337:T>A    5.05               Benign\n",
       "4  chr17:g.43063337:T>A    2.59               Benign"
      ]
     },
     "execution_count": 212,
     "metadata": {},
     "output_type": "execute_result"
    }
   ],
   "source": [
    "frames.head(5)"
   ]
  },
  {
   "cell_type": "code",
   "execution_count": 213,
   "metadata": {},
   "outputs": [
    {
     "data": {
      "text/html": [
       "<div>\n",
       "<style scoped>\n",
       "    .dataframe tbody tr th:only-of-type {\n",
       "        vertical-align: middle;\n",
       "    }\n",
       "\n",
       "    .dataframe tbody tr th {\n",
       "        vertical-align: top;\n",
       "    }\n",
       "\n",
       "    .dataframe thead th {\n",
       "        text-align: right;\n",
       "    }\n",
       "</style>\n",
       "<table border=\"1\" class=\"dataframe\">\n",
       "  <thead>\n",
       "    <tr style=\"text-align: right;\">\n",
       "      <th></th>\n",
       "      <th>Coor</th>\n",
       "      <th>deltaG</th>\n",
       "      <th>actual_Pathogenicity</th>\n",
       "    </tr>\n",
       "  </thead>\n",
       "  <tbody>\n",
       "    <tr>\n",
       "      <th>0</th>\n",
       "      <td>chr13:g.32363456:A&gt;T</td>\n",
       "      <td>0.258046</td>\n",
       "      <td>Benign</td>\n",
       "    </tr>\n",
       "    <tr>\n",
       "      <th>1</th>\n",
       "      <td>chr17:g.43045739:A&gt;C</td>\n",
       "      <td>0.275376</td>\n",
       "      <td>Benign</td>\n",
       "    </tr>\n",
       "    <tr>\n",
       "      <th>2</th>\n",
       "      <td>chr17:g.43045739:A&gt;C</td>\n",
       "      <td>0.289850</td>\n",
       "      <td>Benign</td>\n",
       "    </tr>\n",
       "    <tr>\n",
       "      <th>3</th>\n",
       "      <td>chr17:g.43063337:T&gt;A</td>\n",
       "      <td>0.096172</td>\n",
       "      <td>Benign</td>\n",
       "    </tr>\n",
       "    <tr>\n",
       "      <th>4</th>\n",
       "      <td>chr17:g.43063337:T&gt;A</td>\n",
       "      <td>0.049324</td>\n",
       "      <td>Benign</td>\n",
       "    </tr>\n",
       "  </tbody>\n",
       "</table>\n",
       "</div>"
      ],
      "text/plain": [
       "                   Coor    deltaG actual_Pathogenicity\n",
       "0  chr13:g.32363456:A>T  0.258046               Benign\n",
       "1  chr17:g.43045739:A>C  0.275376               Benign\n",
       "2  chr17:g.43045739:A>C  0.289850               Benign\n",
       "3  chr17:g.43063337:T>A  0.096172               Benign\n",
       "4  chr17:g.43063337:T>A  0.049324               Benign"
      ]
     },
     "execution_count": 213,
     "metadata": {},
     "output_type": "execute_result"
    }
   ],
   "source": [
    "max_change=frames['deltaG'].max()\n",
    "frames.deltaG=frames['deltaG']/max_change\n",
    "frames.head(5)\n"
   ]
  },
  {
   "cell_type": "code",
   "execution_count": 214,
   "metadata": {},
   "outputs": [],
   "source": [
    "fpr, tpr, thr = roc_curve(frames.actual_Pathogenicity,frames.deltaG, pos_label='Pathogenic')"
   ]
  },
  {
   "cell_type": "code",
   "execution_count": 215,
   "metadata": {},
   "outputs": [
    {
     "data": {
      "image/png": "[encoded data removed]",
      "text/plain": [
       "<Figure size 432x288 with 1 Axes>"
      ]
     },
     "metadata": {},
     "output_type": "display_data"
    },
    {
     "data": {
      "text/plain": [
       "<Figure size 432x288 with 0 Axes>"
      ]
     },
     "metadata": {},
     "output_type": "display_data"
    }
   ],
   "source": [
    "plt.plot(fpr, tpr)\n",
    "# plt.xlabel(\"Vest P-value\")\n",
    "\n",
    "plt.show()\n",
    "plt.savefig(\"foldx training roc.pdf\")"
   ]
  },
  {
   "cell_type": "code",
   "execution_count": null,
   "metadata": {},
   "outputs": [],
   "source": []
  },
  {
   "cell_type": "code",
   "execution_count": 216,
   "metadata": {},
   "outputs": [
    {
     "data": {
      "text/plain": [
       "<matplotlib.axes._subplots.AxesSubplot at 0x1a1822f5f8>"
      ]
     },
     "execution_count": 216,
     "metadata": {},
     "output_type": "execute_result"
    },
    {
     "data": {
      "image/png": "[encoded data removed]",
      "text/plain": [
       "<Figure size 432x288 with 1 Axes>"
      ]
     },
     "metadata": {},
     "output_type": "display_data"
    }
   ],
   "source": [
    "sns.boxplot(x='actual_Pathogenicity',y='deltaG',data=frames,order=[\"Pathogenic\", \"Benign\"])\n"
   ]
  },
  {
   "cell_type": "code",
   "execution_count": 217,
   "metadata": {},
   "outputs": [
    {
     "data": {
      "text/plain": [
       "<matplotlib.axes._subplots.AxesSubplot at 0x1a18b0e470>"
      ]
     },
     "execution_count": 217,
     "metadata": {},
     "output_type": "execute_result"
    },
    {
     "data": {
      "image/png": "[encoded data removed]",
      "text/plain": [
       "<Figure size 432x288 with 1 Axes>"
      ]
     },
     "metadata": {},
     "output_type": "display_data"
    }
   ],
   "source": [
    "frames['deltaG2'] = np.log(frames['deltaG'])\n",
    "frames.boxplot(column='deltaG2' ,by='actual_Pathogenicity', )"
   ]
  },
  {
   "cell_type": "code",
   "execution_count": 218,
   "metadata": {},
   "outputs": [
    {
     "data": {
      "text/plain": [
       "<matplotlib.axes._subplots.AxesSubplot at 0x1a189d57f0>"
      ]
     },
     "execution_count": 218,
     "metadata": {},
     "output_type": "execute_result"
    },
    {
     "data": {
      "image/png": "[encoded data removed]",
      "text/plain": [
       "<Figure size 432x288 with 1 Axes>"
      ]
     },
     "metadata": {},
     "output_type": "display_data"
    }
   ],
   "source": [
    "sns.violinplot(x='actual_Pathogenicity',y='deltaG',data=frames,order=[\"Pathogenic\", \"Benign\"],cut=0)"
   ]
  },
  {
   "cell_type": "code",
   "execution_count": 219,
   "metadata": {},
   "outputs": [],
   "source": [
    "acum, tp, total, accuracy,pval=0,0,0,0,0\n",
    "acum_acc,acum_pval,tn_lis,tp_lis,fp_lis,fn_lis=[],[],[],[],[],[]"
   ]
  },
  {
   "cell_type": "code",
   "execution_count": 220,
   "metadata": {},
   "outputs": [],
   "source": [
    "for i in np.arange(0.05,1.,0.0001):\n",
    "    i=round(i,4)\n",
    "    frames.loc[(frames.deltaG<=i), 'Predicted']= 'Pathogenic'\n",
    "    frames.loc[(frames.deltaG>i), 'Predicted']= 'Benign'\n",
    "    frames\n",
    "\n",
    "    tn=len(frames.loc[(frames.Predicted.astype(str)=='Benign')&(frames.actual_Pathogenicity.astype(str)=='Benign')])+0.0\n",
    "    tp=len(frames.loc[(frames.Predicted.astype(str)=='Pathogenic')&(frames.actual_Pathogenicity.astype(str)=='Pathogenic')])+0.0\n",
    "\n",
    "    fn=len(frames.loc[(frames.Predicted.astype(str)=='Benign')&(frames.actual_Pathogenicity.astype(str)=='Pathogenic')])+0.0\n",
    "    fp=len(frames.loc[(frames.Predicted.astype(str)=='Pathogenic')&(frames.actual_Pathogenicity.astype(str)=='Benign')])+0.0\n",
    "    t=tn+tp\n",
    "    f=(fn+fp)\n",
    "    total=t+f\n",
    "    accuracy=((t/(total)*1.0)*1.0)\n",
    "    \n",
    "    tn_lis.append(tn)\n",
    "    tp_lis.append(tp)\n",
    "    fn_lis.append(fn)\n",
    "    fp_lis.append(fp)\n",
    "    \n",
    "    acum_acc.append(accuracy)\n",
    "    acum_pval.append(i)\n",
    "    \n",
    "    if(acum<accuracy):\n",
    "        acum=accuracy\n",
    "        pval=i\n",
    "        "
   ]
  },
  {
   "cell_type": "code",
   "execution_count": 221,
   "metadata": {},
   "outputs": [
    {
     "name": "stdout",
     "output_type": "stream",
     "text": [
      "0.05\n",
      "accuracy 0.57\n"
     ]
    }
   ],
   "source": [
    "pval=round(pval,2)\n",
    "print(pval)\n",
    "acum=round(acum,2)\n",
    "print (\"accuracy \"+str(acum))"
   ]
  },
  {
   "cell_type": "code",
   "execution_count": null,
   "metadata": {},
   "outputs": [],
   "source": []
  },
  {
   "cell_type": "markdown",
   "metadata": {},
   "source": [
    "# TEST DATA"
   ]
  },
  {
   "cell_type": "code",
   "execution_count": 222,
   "metadata": {},
   "outputs": [],
   "source": [
    "df2_test=pd.read_csv('foldx_test_set_analyse.txt',delimiter='\\t')\n",
    "df_actual_test=pd.read_csv(\"test_set.csv\")\n"
   ]
  },
  {
   "cell_type": "code",
   "execution_count": 223,
   "metadata": {},
   "outputs": [],
   "source": [
    "frames2=pd.merge(df2_test, df_actual_test, how='inner', on='GenomicCoordinate')\n"
   ]
  },
  {
   "cell_type": "code",
   "execution_count": 224,
   "metadata": {},
   "outputs": [
    {
     "data": {
      "text/html": [
       "<div>\n",
       "<style scoped>\n",
       "    .dataframe tbody tr th:only-of-type {\n",
       "        vertical-align: middle;\n",
       "    }\n",
       "\n",
       "    .dataframe tbody tr th {\n",
       "        vertical-align: top;\n",
       "    }\n",
       "\n",
       "    .dataframe thead th {\n",
       "        text-align: right;\n",
       "    }\n",
       "</style>\n",
       "<table border=\"1\" class=\"dataframe\">\n",
       "  <thead>\n",
       "    <tr style=\"text-align: right;\">\n",
       "      <th></th>\n",
       "      <th>GenomicCoordinate</th>\n",
       "      <th>deltaG</th>\n",
       "      <th>Pathogenicity</th>\n",
       "    </tr>\n",
       "  </thead>\n",
       "  <tbody>\n",
       "    <tr>\n",
       "      <th>0</th>\n",
       "      <td>chr13:g.32362692:A&gt;G</td>\n",
       "      <td>0.390531</td>\n",
       "      <td>Pathogenic</td>\n",
       "    </tr>\n",
       "    <tr>\n",
       "      <th>1</th>\n",
       "      <td>chr17:g.43057113:T&gt;A</td>\n",
       "      <td>0.058045</td>\n",
       "      <td>Pathogenic</td>\n",
       "    </tr>\n",
       "    <tr>\n",
       "      <th>2</th>\n",
       "      <td>chr17:g.43057113:T&gt;A</td>\n",
       "      <td>0.162525</td>\n",
       "      <td>Pathogenic</td>\n",
       "    </tr>\n",
       "    <tr>\n",
       "      <th>3</th>\n",
       "      <td>chr17:g.43106457:T&gt;C</td>\n",
       "      <td>0.008163</td>\n",
       "      <td>Pathogenic</td>\n",
       "    </tr>\n",
       "    <tr>\n",
       "      <th>4</th>\n",
       "      <td>chr17:g.43057116:C&gt;T</td>\n",
       "      <td>0.551061</td>\n",
       "      <td>Pathogenic</td>\n",
       "    </tr>\n",
       "  </tbody>\n",
       "</table>\n",
       "</div>"
      ],
      "text/plain": [
       "      GenomicCoordinate    deltaG Pathogenicity\n",
       "0  chr13:g.32362692:A>G  0.390531    Pathogenic\n",
       "1  chr17:g.43057113:T>A  0.058045    Pathogenic\n",
       "2  chr17:g.43057113:T>A  0.162525    Pathogenic\n",
       "3  chr17:g.43106457:T>C  0.008163    Pathogenic\n",
       "4  chr17:g.43057116:C>T  0.551061    Pathogenic"
      ]
     },
     "execution_count": 224,
     "metadata": {},
     "output_type": "execute_result"
    }
   ],
   "source": [
    "max_change=frames2['deltaG'].max()\n",
    "frames2.deltaG=frames2['deltaG']/max_change\n",
    "frames2.head(5)\n"
   ]
  },
  {
   "cell_type": "markdown",
   "metadata": {},
   "source": [
    "## ROC Curve"
   ]
  },
  {
   "cell_type": "code",
   "execution_count": 225,
   "metadata": {},
   "outputs": [],
   "source": [
    "fpr, tpr, thr = roc_curve(frames2.Pathogenicity,frames2.deltaG, pos_label='Pathogenic')"
   ]
  },
  {
   "cell_type": "code",
   "execution_count": 226,
   "metadata": {},
   "outputs": [
    {
     "data": {
      "image/png": "[encoded data removed]",
      "text/plain": [
       "<Figure size 432x288 with 1 Axes>"
      ]
     },
     "metadata": {},
     "output_type": "display_data"
    },
    {
     "data": {
      "text/plain": [
       "<Figure size 432x288 with 0 Axes>"
      ]
     },
     "metadata": {},
     "output_type": "display_data"
    }
   ],
   "source": [
    "plt.plot(fpr, tpr)\n",
    "plt.show()\n",
    "plt.savefig(\"foldx test roc.pdf\")"
   ]
  },
  {
   "cell_type": "markdown",
   "metadata": {},
   "source": [
    "### Box Plot"
   ]
  },
  {
   "cell_type": "code",
   "execution_count": 227,
   "metadata": {},
   "outputs": [
    {
     "data": {
      "text/plain": [
       "<matplotlib.axes._subplots.AxesSubplot at 0x1a18ca00b8>"
      ]
     },
     "execution_count": 227,
     "metadata": {},
     "output_type": "execute_result"
    },
    {
     "data": {
      "image/png": "[encoded data removed]",
      "text/plain": [
       "<Figure size 432x288 with 1 Axes>"
      ]
     },
     "metadata": {},
     "output_type": "display_data"
    }
   ],
   "source": [
    "sns.boxplot(x='Pathogenicity',y='deltaG',data=frames2,order=[\"Pathogenic\", \"Benign\"])"
   ]
  },
  {
   "cell_type": "markdown",
   "metadata": {},
   "source": [
    "### Area Under curve"
   ]
  },
  {
   "cell_type": "code",
   "execution_count": 228,
   "metadata": {},
   "outputs": [
    {
     "data": {
      "text/plain": [
       "0.6432748538011697"
      ]
     },
     "execution_count": 228,
     "metadata": {},
     "output_type": "execute_result"
    }
   ],
   "source": [
    "y_true = np.ones(len(frames2.Pathogenicity))\n",
    "y_true[frames2.Pathogenicity == 'Benign'] = 0\n",
    "roc_auc_score(y_true,frames2.deltaG)"
   ]
  },
  {
   "cell_type": "markdown",
   "metadata": {},
   "source": [
    "### Use Treshold that was calculated in Training"
   ]
  },
  {
   "cell_type": "code",
   "execution_count": 229,
   "metadata": {},
   "outputs": [],
   "source": [
    "temp = list('B'*len(frames2))\n",
    "frames2.insert(2, column='Predicted', value=temp)\n",
    "frames2.loc[(frames2.deltaG<=.05), 'Predicted']= 'Pathogenic'\n",
    "frames2.loc[(frames2.deltaG>.05), 'Predicted']= 'Benign'"
   ]
  },
  {
   "cell_type": "code",
   "execution_count": 230,
   "metadata": {},
   "outputs": [
    {
     "data": {
      "text/html": [
       "<div>\n",
       "<style scoped>\n",
       "    .dataframe tbody tr th:only-of-type {\n",
       "        vertical-align: middle;\n",
       "    }\n",
       "\n",
       "    .dataframe tbody tr th {\n",
       "        vertical-align: top;\n",
       "    }\n",
       "\n",
       "    .dataframe thead th {\n",
       "        text-align: right;\n",
       "    }\n",
       "</style>\n",
       "<table border=\"1\" class=\"dataframe\">\n",
       "  <thead>\n",
       "    <tr style=\"text-align: right;\">\n",
       "      <th></th>\n",
       "      <th>GenomicCoordinate</th>\n",
       "      <th>deltaG</th>\n",
       "      <th>Predicted</th>\n",
       "      <th>Pathogenicity</th>\n",
       "    </tr>\n",
       "  </thead>\n",
       "  <tbody>\n",
       "    <tr>\n",
       "      <th>0</th>\n",
       "      <td>chr13:g.32362692:A&gt;G</td>\n",
       "      <td>0.390531</td>\n",
       "      <td>Benign</td>\n",
       "      <td>Pathogenic</td>\n",
       "    </tr>\n",
       "    <tr>\n",
       "      <th>1</th>\n",
       "      <td>chr17:g.43057113:T&gt;A</td>\n",
       "      <td>0.058045</td>\n",
       "      <td>Benign</td>\n",
       "      <td>Pathogenic</td>\n",
       "    </tr>\n",
       "  </tbody>\n",
       "</table>\n",
       "</div>"
      ],
      "text/plain": [
       "      GenomicCoordinate    deltaG Predicted Pathogenicity\n",
       "0  chr13:g.32362692:A>G  0.390531    Benign    Pathogenic\n",
       "1  chr17:g.43057113:T>A  0.058045    Benign    Pathogenic"
      ]
     },
     "execution_count": 230,
     "metadata": {},
     "output_type": "execute_result"
    }
   ],
   "source": [
    "frames2.head(2)"
   ]
  },
  {
   "cell_type": "markdown",
   "metadata": {},
   "source": [
    "### Get all correctly predicted variants"
   ]
  },
  {
   "cell_type": "code",
   "execution_count": 231,
   "metadata": {},
   "outputs": [],
   "source": [
    "tn=frames.loc[(frames.Predicted.astype(str)=='Benign')&(frames.actual_Pathogenicity.astype(str)=='Benign')]\n",
    "tp=frames.loc[(frames.Predicted.astype(str)=='Pathogenic')&(frames.actual_Pathogenicity.astype(str)=='Pathogenic')]\n",
    "true_df=pd.concat([tn,tp],axis=0)\n",
    "# true_df=true_df.dropna()\n",
    "# true_df.to_csv(\"foldx_true.tsv\")"
   ]
  },
  {
   "cell_type": "code",
   "execution_count": 232,
   "metadata": {},
   "outputs": [],
   "source": [
    "# df_cravant = pd.read_csv(\"Cravat_false.tsv\")"
   ]
  },
  {
   "cell_type": "code",
   "execution_count": 233,
   "metadata": {},
   "outputs": [
    {
     "data": {
      "text/html": [
       "<div>\n",
       "<style scoped>\n",
       "    .dataframe tbody tr th:only-of-type {\n",
       "        vertical-align: middle;\n",
       "    }\n",
       "\n",
       "    .dataframe tbody tr th {\n",
       "        vertical-align: top;\n",
       "    }\n",
       "\n",
       "    .dataframe thead th {\n",
       "        text-align: right;\n",
       "    }\n",
       "</style>\n",
       "<table border=\"1\" class=\"dataframe\">\n",
       "  <thead>\n",
       "    <tr style=\"text-align: right;\">\n",
       "      <th></th>\n",
       "      <th>Coor</th>\n",
       "      <th>deltaG</th>\n",
       "      <th>actual_Pathogenicity</th>\n",
       "      <th>deltaG2</th>\n",
       "      <th>Predicted</th>\n",
       "    </tr>\n",
       "  </thead>\n",
       "  <tbody>\n",
       "    <tr>\n",
       "      <th>37</th>\n",
       "      <td>chr13:g.32379480:G&gt;A</td>\n",
       "      <td>1.000000</td>\n",
       "      <td>Benign</td>\n",
       "      <td>0.000000</td>\n",
       "      <td>Benign</td>\n",
       "    </tr>\n",
       "    <tr>\n",
       "      <th>15</th>\n",
       "      <td>chr13:g.32394716:A&gt;G</td>\n",
       "      <td>0.678157</td>\n",
       "      <td>Pathogenic</td>\n",
       "      <td>-0.388377</td>\n",
       "      <td>Pathogenic</td>\n",
       "    </tr>\n",
       "    <tr>\n",
       "      <th>33</th>\n",
       "      <td>chr13:g.32362593:T&gt;C</td>\n",
       "      <td>0.281089</td>\n",
       "      <td>Pathogenic</td>\n",
       "      <td>-1.269083</td>\n",
       "      <td>Pathogenic</td>\n",
       "    </tr>\n",
       "    <tr>\n",
       "      <th>42</th>\n",
       "      <td>chr17:g.43051086:C&gt;A</td>\n",
       "      <td>0.111026</td>\n",
       "      <td>Pathogenic</td>\n",
       "      <td>-2.197987</td>\n",
       "      <td>Pathogenic</td>\n",
       "    </tr>\n",
       "    <tr>\n",
       "      <th>43</th>\n",
       "      <td>chr17:g.43051086:C&gt;A</td>\n",
       "      <td>0.007237</td>\n",
       "      <td>Pathogenic</td>\n",
       "      <td>-4.928588</td>\n",
       "      <td>Pathogenic</td>\n",
       "    </tr>\n",
       "    <tr>\n",
       "      <th>46</th>\n",
       "      <td>chr13:g.32363369:G&gt;A</td>\n",
       "      <td>0.285850</td>\n",
       "      <td>Pathogenic</td>\n",
       "      <td>-1.252287</td>\n",
       "      <td>Pathogenic</td>\n",
       "    </tr>\n",
       "  </tbody>\n",
       "</table>\n",
       "</div>"
      ],
      "text/plain": [
       "                    Coor    deltaG actual_Pathogenicity   deltaG2   Predicted\n",
       "37  chr13:g.32379480:G>A  1.000000               Benign  0.000000      Benign\n",
       "15  chr13:g.32394716:A>G  0.678157           Pathogenic -0.388377  Pathogenic\n",
       "33  chr13:g.32362593:T>C  0.281089           Pathogenic -1.269083  Pathogenic\n",
       "42  chr17:g.43051086:C>A  0.111026           Pathogenic -2.197987  Pathogenic\n",
       "43  chr17:g.43051086:C>A  0.007237           Pathogenic -4.928588  Pathogenic\n",
       "46  chr13:g.32363369:G>A  0.285850           Pathogenic -1.252287  Pathogenic"
      ]
     },
     "execution_count": 233,
     "metadata": {},
     "output_type": "execute_result"
    }
   ],
   "source": [
    "true_df"
   ]
  }
 ],
 "metadata": {
  "kernelspec": {
   "display_name": "Python 3",
   "language": "python",
   "name": "python3"
  },
  "language_info": {
   "codemirror_mode": {
    "name": "ipython",
    "version": 3
   },
   "file_extension": ".py",
   "mimetype": "text/x-python",
   "name": "python",
   "nbconvert_exporter": "python",
   "pygments_lexer": "ipython3",
   "version": "3.6.5"
  }
 },
 "nbformat": 4,
 "nbformat_minor": 2
}
