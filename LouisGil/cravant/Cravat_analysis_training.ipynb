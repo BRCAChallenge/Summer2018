{
 "cells": [
  {
   "cell_type": "markdown",
   "metadata": {},
   "source": [
    "# CRAVAT treshold for training set\n",
    "The purpose of this notebook is to calculate the treshold and accuracy of Cravat"
   ]
  },
  {
   "cell_type": "markdown",
   "metadata": {},
   "source": [
    "#### Dependecies"
   ]
  },
  {
   "cell_type": "code",
   "execution_count": 21,
   "metadata": {},
   "outputs": [],
   "source": [
    "import pandas as pd\n",
    "import numpy as np\n",
    "import matplotlib.pyplot as plt\n",
    "import seaborn as sns\n",
    "import requests\n",
    "import json\n",
    "from sklearn.metrics import roc_curve, roc_auc_score"
   ]
  },
  {
   "cell_type": "markdown",
   "metadata": {},
   "source": [
    "#### Load CSV file"
   ]
  },
  {
   "cell_type": "code",
   "execution_count": 22,
   "metadata": {},
   "outputs": [],
   "source": [
    "df = pd.read_excel(\"training_set.vcf.CRAVAT_analysis.dev.loaceved.xls\",skiprows=10,header=1)\n",
    "df_actual=pd.read_excel(\"training_set_pathogenicity.xlsx\")\n",
    "\n",
    "\n"
   ]
  },
  {
   "cell_type": "code",
   "execution_count": 23,
   "metadata": {},
   "outputs": [],
   "source": [
    "frames = pd.concat([df['ID'],df['Chromosome'],df['Position'],df['Strand'],\n",
    "                   df['Reference base(s)'],df['Alternate base(s)'],\n",
    "                   df['ClinVar'],df['VEST p-value'].rename('VEST_p_value'),df['VEST FDR']], axis=1)\n",
    "\n",
    "df_actual=pd.concat([df_actual['#Coordinate'].rename('ID'),df_actual['Pathogenicity'].rename('actual_Pathogenicity')],axis=1)"
   ]
  },
  {
   "cell_type": "markdown",
   "metadata": {},
   "source": [
    "## Merge predicted and actual dataframe"
   ]
  },
  {
   "cell_type": "code",
   "execution_count": 24,
   "metadata": {},
   "outputs": [],
   "source": [
    "frames=pd.merge(frames, df_actual, how='inner', on='ID')"
   ]
  },
  {
   "cell_type": "markdown",
   "metadata": {},
   "source": [
    "#### Normilize Data (Likely_benign now Benign & Likely_pathogenic now Pathogenic)"
   ]
  },
  {
   "cell_type": "code",
   "execution_count": 25,
   "metadata": {},
   "outputs": [],
   "source": [
    "frames.loc[(frames.actual_Pathogenicity=='Likely_benign'),'actual_Pathogenicity']= 'Benign'\n",
    "frames.loc[(frames.actual_Pathogenicity=='Likely_pathogenic'),'actual_Pathogenicity']= 'Pathogenic'"
   ]
  },
  {
   "cell_type": "markdown",
   "metadata": {},
   "source": [
    "#### Create temporary column"
   ]
  },
  {
   "cell_type": "code",
   "execution_count": 26,
   "metadata": {},
   "outputs": [],
   "source": [
    "temp = list('B'*len(frames))\n",
    "frames.insert(9, column='Predicted', value=temp)"
   ]
  },
  {
   "cell_type": "markdown",
   "metadata": {},
   "source": [
    "### Initiate variables and empty lists"
   ]
  },
  {
   "cell_type": "code",
   "execution_count": 27,
   "metadata": {},
   "outputs": [],
   "source": [
    "acum, tp, total, accuracy,pval=0,0,0,0,0\n",
    "acum_acc,acum_pval,tn_lis,tp_lis,fp_lis,fn_lis=[],[],[],[],[],[]"
   ]
  },
  {
   "cell_type": "markdown",
   "metadata": {},
   "source": [
    "## Calculate Accuracy and Treshold (pvalue)"
   ]
  },
  {
   "cell_type": "code",
   "execution_count": 28,
   "metadata": {},
   "outputs": [],
   "source": [
    "for i in np.arange(0.05,1.,0.0001):\n",
    "    i=round(i,4)\n",
    "    frames.loc[(frames.VEST_p_value<=i), 'Predicted']= 'Pathogenic'\n",
    "    frames.loc[(frames.VEST_p_value>i), 'Predicted']= 'Benign'\n",
    "    frames\n",
    "\n",
    "    tn=len(frames.loc[(frames.Predicted.astype(str)=='Benign')&(frames.actual_Pathogenicity.astype(str)=='Benign')])+0.0\n",
    "    tp=len(frames.loc[(frames.Predicted.astype(str)=='Pathogenic')&(frames.actual_Pathogenicity.astype(str)=='Pathogenic')])+0.0\n",
    "\n",
    "    fn=len(frames.loc[(frames.Predicted.astype(str)=='Benign')&(frames.actual_Pathogenicity.astype(str)=='Pathogenic')])+0.0\n",
    "    fp=len(frames.loc[(frames.Predicted.astype(str)=='Pathogenic')&(frames.actual_Pathogenicity.astype(str)=='Benign')])+0.0\n",
    "    t=tn+tp\n",
    "    f=(fn+fp)\n",
    "    total=t+f\n",
    "    accuracy=((t/(total)*1.0)*1.0)\n",
    "    \n",
    "    tn_lis.append(tn)\n",
    "    tp_lis.append(tp)\n",
    "    fn_lis.append(fn)\n",
    "    fp_lis.append(fp)\n",
    "    \n",
    "    acum_acc.append(accuracy)\n",
    "    acum_pval.append(i)\n",
    "    \n",
    "    if(acum<accuracy):\n",
    "        acum=accuracy\n",
    "        pval=i\n",
    "        "
   ]
  },
  {
   "cell_type": "markdown",
   "metadata": {},
   "source": [
    "##### Round treshold "
   ]
  },
  {
   "cell_type": "code",
   "execution_count": 29,
   "metadata": {},
   "outputs": [
    {
     "ename": "SyntaxError",
     "evalue": "EOL while scanning string literal (<ipython-input-29-69a7ff009d6c>, line 2)",
     "output_type": "error",
     "traceback": [
      "\u001b[0;36m  File \u001b[0;32m\"<ipython-input-29-69a7ff009d6c>\"\u001b[0;36m, line \u001b[0;32m2\u001b[0m\n\u001b[0;31m    print(treshold \"+str(pval))\u001b[0m\n\u001b[0m                               ^\u001b[0m\n\u001b[0;31mSyntaxError\u001b[0m\u001b[0;31m:\u001b[0m EOL while scanning string literal\n"
     ]
    }
   ],
   "source": [
    "pval=round(pval,2)\n",
    "print(treshold \"+str(pval))\n",
    "acum=round(acum,2)\n",
    "print (\"accuracy \"+str(acum))"
   ]
  },
  {
   "cell_type": "markdown",
   "metadata": {},
   "source": [
    "### Apply Best treshold"
   ]
  },
  {
   "cell_type": "code",
   "execution_count": null,
   "metadata": {},
   "outputs": [],
   "source": [
    "frames.loc[(frames.VEST_p_value<=.09), 'Predicted']= 'Pathogenic'\n",
    "frames.loc[(frames.VEST_p_value>.09), 'Predicted']= 'Benign'"
   ]
  },
  {
   "cell_type": "markdown",
   "metadata": {},
   "source": [
    "##### Check How data is being orginized"
   ]
  },
  {
   "cell_type": "code",
   "execution_count": null,
   "metadata": {},
   "outputs": [],
   "source": [
    "print(\"Benings in Actual: \"+ str(len(frames.loc[(frames.actual_Pathogenicity=='Benign')])))\n",
    "print(\"Pathogenic in Actual: \"+str(len(frames.loc[(frames.actual_Pathogenicity=='Pathogenic')])))\n",
    "print(\"Beningn in Predicted: \"+str(len(frames.loc[(frames.Predicted=='Benign')])))\n",
    "print(\"Pathogenic in Predicted: \"+str(len(frames.loc[(frames.Predicted=='Pathogenic')])))"
   ]
  },
  {
   "cell_type": "code",
   "execution_count": null,
   "metadata": {},
   "outputs": [],
   "source": [
    "sns.boxplot(x='actual_Pathogenicity',y='VEST_p_value',data=frames,order=[\"Pathogenic\", \"Benign\"],)\n"
   ]
  },
  {
   "cell_type": "code",
   "execution_count": null,
   "metadata": {
    "scrolled": true
   },
   "outputs": [],
   "source": [
    "sns.boxplot(x='Predicted',y='VEST_p_value',data=frames,order=[\"Pathogenic\", \"Benign\"])"
   ]
  },
  {
   "cell_type": "markdown",
   "metadata": {},
   "source": [
    "## Accuracy & P-value"
   ]
  },
  {
   "cell_type": "code",
   "execution_count": null,
   "metadata": {},
   "outputs": [],
   "source": [
    "print(\"Accuracy: \"+str(acum))\n",
    "print(\"Pvalue: \" +str(pval))"
   ]
  },
  {
   "cell_type": "markdown",
   "metadata": {},
   "source": [
    "### Plot: true_pos, true_neg, false_neg, false_pos"
   ]
  },
  {
   "cell_type": "code",
   "execution_count": null,
   "metadata": {},
   "outputs": [],
   "source": [
    "plt.figure(figsize=(16, 8))\n",
    "plt.plot(acum_pval, tn_lis, c='b', label='True Negative')\n",
    "plt.plot(acum_pval, tp_lis, c='g', label='True Postive')\n",
    "plt.plot(acum_pval, fn_lis, c='r', label='False Negative')\n",
    "plt.plot(acum_pval, fp_lis, c='y', label='False Positive')\n",
    "plt.legend()\n",
    "plt.xlabel(\"Threshold\")\n",
    "plt.ylabel(\"Data Amount\")\n",
    "plt.title(\"Threshold vs DataAmount by ...\");\n",
    "# plt.axhline(max_y, c='r')\n",
    "# plt.axvline(max_x, c='g')\n",
    "plt.savefig(\"thresVsData_training.pdf\")\n",
    "plt.savefig(\"thresVsData_training.png\")"
   ]
  },
  {
   "cell_type": "markdown",
   "metadata": {},
   "source": [
    "## Plot: accuracy vs pvalue "
   ]
  },
  {
   "cell_type": "code",
   "execution_count": null,
   "metadata": {},
   "outputs": [],
   "source": [
    "max_idx = np.argmax(acum_acc)\n",
    "max_x = acum_pval[max_idx]\n",
    "max_y = acum_acc[max_idx]"
   ]
  },
  {
   "cell_type": "code",
   "execution_count": null,
   "metadata": {},
   "outputs": [],
   "source": [
    "plt.figure(figsize=(16, 8))\n",
    "plt.plot(acum_pval, acum_acc)\n",
    "plt.axhline(max_y, c='r')\n",
    "plt.axvline(max_x, c='g')\n",
    "plt.savefig(\"thresData_training.pdf\")\n",
    "plt.savefig(\"thresData_training.png\")"
   ]
  },
  {
   "cell_type": "code",
   "execution_count": null,
   "metadata": {},
   "outputs": [],
   "source": [
    "# acum_acc"
   ]
  },
  {
   "cell_type": "code",
   "execution_count": null,
   "metadata": {},
   "outputs": [],
   "source": [
    "# np.linspace(0.0, 1.0, 1000 )"
   ]
  },
  {
   "cell_type": "code",
   "execution_count": null,
   "metadata": {},
   "outputs": [],
   "source": [
    "# acum=round(acum,2)\n",
    "# acum"
   ]
  },
  {
   "cell_type": "markdown",
   "metadata": {},
   "source": [
    "## Box plot"
   ]
  },
  {
   "cell_type": "code",
   "execution_count": null,
   "metadata": {},
   "outputs": [],
   "source": [
    "sns.boxplot(x='actual_Pathogenicity',y='VEST_p_value',data=frames,order=[\"Pathogenic\", \"Benign\"])"
   ]
  },
  {
   "cell_type": "code",
   "execution_count": null,
   "metadata": {},
   "outputs": [],
   "source": [
    "sns.boxplot(x='Predicted',y='VEST_p_value',data=frames,order=[\"Pathogenic\", \"Benign\"])"
   ]
  },
  {
   "cell_type": "code",
   "execution_count": null,
   "metadata": {},
   "outputs": [],
   "source": [
    "rev_frames=frames\n",
    "\n",
    "rev_frames['VEST_p_value']=1-rev_frames['VEST_p_value']\n",
    "rev_frames.loc[(rev_frames.VEST_p_value>=pval), 'Predicted']= 'Pathogenic'\n",
    "rev_frames.loc[(rev_frames.VEST_p_value<pval), 'Predicted']= 'Benign'\n",
    "print(len(rev_frames.loc[(rev_frames.Predicted=='Benign')]))\n",
    "print(len(rev_frames.loc[(rev_frames.Predicted=='Pathogenic')]))"
   ]
  },
  {
   "cell_type": "code",
   "execution_count": null,
   "metadata": {},
   "outputs": [],
   "source": [
    "sns.boxplot(x='actual_Pathogenicity',y='VEST_p_value',data=rev_frames,order=[\"Pathogenic\", \"Benign\"])"
   ]
  },
  {
   "cell_type": "code",
   "execution_count": null,
   "metadata": {},
   "outputs": [],
   "source": [
    "sns.boxplot(x='Predicted',y='VEST_p_value',data=rev_frames,order=[\"Pathogenic\", \"Benign\"])"
   ]
  },
  {
   "cell_type": "markdown",
   "metadata": {},
   "source": [
    "## Roc plot"
   ]
  },
  {
   "cell_type": "code",
   "execution_count": null,
   "metadata": {},
   "outputs": [],
   "source": [
    "fpr, tpr, thr = roc_curve(frames.actual_Pathogenicity,frames.VEST_p_value, pos_label='Pathogenic')"
   ]
  },
  {
   "cell_type": "code",
   "execution_count": null,
   "metadata": {},
   "outputs": [],
   "source": [
    "plt.plot(fpr, tpr)\n",
    "#plt.plot(thr, thr,'.-' "
   ]
  },
  {
   "cell_type": "markdown",
   "metadata": {},
   "source": [
    "## Area under Curve"
   ]
  },
  {
   "cell_type": "code",
   "execution_count": null,
   "metadata": {},
   "outputs": [],
   "source": [
    "y_true = np.ones(len(frames.actual_Pathogenicity))\n",
    "y_true[frames.actual_Pathogenicity == 'Benign'] = 0\n",
    "roc_auc_score(y_true,frames.VEST_p_value)"
   ]
  },
  {
   "cell_type": "code",
   "execution_count": null,
   "metadata": {},
   "outputs": [],
   "source": [
    "sns.violinplot(x='actual_Pathogenicity',y='VEST_p_value',data=rev_frames,order=[\"Pathogenic\", \"Benign\"],cut=0)"
   ]
  },
  {
   "cell_type": "code",
   "execution_count": null,
   "metadata": {},
   "outputs": [],
   "source": [
    "sns.violinplot(x='Predicted',y='VEST_p_value',data=rev_frames,order=[\"Pathogenic\", \"Benign\"],cut=0)"
   ]
  },
  {
   "cell_type": "code",
   "execution_count": null,
   "metadata": {},
   "outputs": [],
   "source": []
  },
  {
   "cell_type": "code",
   "execution_count": null,
   "metadata": {},
   "outputs": [],
   "source": []
  },
  {
   "cell_type": "code",
   "execution_count": null,
   "metadata": {},
   "outputs": [],
   "source": []
  },
  {
   "cell_type": "code",
   "execution_count": null,
   "metadata": {},
   "outputs": [],
   "source": []
  },
  {
   "cell_type": "code",
   "execution_count": null,
   "metadata": {},
   "outputs": [],
   "source": []
  },
  {
   "cell_type": "code",
   "execution_count": null,
   "metadata": {},
   "outputs": [],
   "source": []
  },
  {
   "cell_type": "code",
   "execution_count": null,
   "metadata": {},
   "outputs": [],
   "source": []
  }
 ],
 "metadata": {
  "kernelspec": {
   "display_name": "Python 3",
   "language": "python",
   "name": "python3"
  },
  "language_info": {
   "codemirror_mode": {
    "name": "ipython",
    "version": 3
   },
   "file_extension": ".py",
   "mimetype": "text/x-python",
   "name": "python",
   "nbconvert_exporter": "python",
   "pygments_lexer": "ipython3",
   "version": "3.6.5"
  }
 },
 "nbformat": 4,
 "nbformat_minor": 2
}
